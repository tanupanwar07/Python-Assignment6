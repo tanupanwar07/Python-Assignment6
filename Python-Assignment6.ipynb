{
 "cells": [
  {
   "cell_type": "markdown",
   "id": "0c1d095d",
   "metadata": {},
   "source": [
    "**1**.What are escape characters, and how do you use them?\n"
   ]
  },
  {
   "cell_type": "markdown",
   "id": "894adb8d",
   "metadata": {},
   "source": [
    "- In Python, escape characters are used to represent whitespace character.  \n",
    "- An escape character is a backslash \\ followed by a character.  \n",
    "- examples: **\\n** for **Newline**  , **\\t**\tfor **Horizontal Tab**, **\\b** for **Backspace** etc.\n",
    "\n",
    "\n",
    "      \n",
    "    \n",
    "    \n"
   ]
  },
  {
   "cell_type": "code",
   "execution_count": null,
   "id": "da0dd485",
   "metadata": {},
   "outputs": [],
   "source": []
  },
  {
   "cell_type": "markdown",
   "id": "0373864d",
   "metadata": {},
   "source": [
    "**2**. What do the escape characters n and t stand for?"
   ]
  },
  {
   "cell_type": "markdown",
   "id": "9088c52e",
   "metadata": {},
   "source": [
    "- n stands for new line character.   \n",
    "- t stands for horizontal tab character."
   ]
  },
  {
   "cell_type": "code",
   "execution_count": null,
   "id": "2ea7cc54",
   "metadata": {},
   "outputs": [],
   "source": []
  },
  {
   "cell_type": "markdown",
   "id": "1f99c8cc",
   "metadata": {},
   "source": [
    "**3**. What is the way to include backslash characters in a string?"
   ]
  },
  {
   "cell_type": "markdown",
   "id": "5caa1785",
   "metadata": {},
   "source": [
    "-   To include backslash in a string, we need two backslashes.\n",
    "\n"
   ]
  },
  {
   "cell_type": "code",
   "execution_count": 13,
   "id": "52772f26",
   "metadata": {},
   "outputs": [
    {
     "name": "stdout",
     "output_type": "stream",
     "text": [
      "hello \\ world\n"
     ]
    }
   ],
   "source": [
    "#eg;\n",
    "a= \"hello \\\\ world\"\n",
    "print(a)"
   ]
  },
  {
   "cell_type": "code",
   "execution_count": null,
   "id": "1a105085",
   "metadata": {},
   "outputs": [],
   "source": []
  },
  {
   "cell_type": "markdown",
   "id": "1409c3af",
   "metadata": {},
   "source": [
    "**4**.The string \"How's moving castle\" is a correct value. Why isn't the single quote character in the word How's not escaped a problem?"
   ]
  },
  {
   "cell_type": "markdown",
   "id": "0c8dfa08",
   "metadata": {},
   "source": [
    "  -   Since, the string is enclosed in double quotes therefore ,the single quotation mark is not creating any problem in the execution."
   ]
  },
  {
   "cell_type": "code",
   "execution_count": null,
   "id": "561e756a",
   "metadata": {},
   "outputs": [],
   "source": []
  },
  {
   "cell_type": "markdown",
   "id": "48fee476",
   "metadata": {},
   "source": [
    "**5**.How do you write a string of newlines if you don't want to use the n character?\n"
   ]
  },
  {
   "cell_type": "markdown",
   "id": "b0b1c39f",
   "metadata": {},
   "source": [
    "   Multiline strings  can be used to insert newlines in the string without using \\n escape character."
   ]
  },
  {
   "cell_type": "code",
   "execution_count": 18,
   "id": "6c913bde",
   "metadata": {},
   "outputs": [
    {
     "name": "stdout",
     "output_type": "stream",
     "text": [
      "this\n",
      "is\n",
      "a \n",
      "multiline\n",
      "string\n",
      "\n"
     ]
    }
   ],
   "source": [
    "#eg; \n",
    "print('''this\n",
    "is\n",
    "a \n",
    "multiline\n",
    "string\n",
    "''')"
   ]
  },
  {
   "cell_type": "code",
   "execution_count": null,
   "id": "1dc2baf5",
   "metadata": {},
   "outputs": [],
   "source": []
  },
  {
   "cell_type": "markdown",
   "id": "69c328e2",
   "metadata": {},
   "source": [
    "**6**. What are the values of the given expressions?\n",
    "\n",
    "'Hello,world!'[0]    \n",
    "     **'e'**\n",
    "\n",
    "'Hello,world!'[0:5]   \n",
    "          **'Hello'**\n",
    "\n",
    "'Hello,world!'[:5]   \n",
    "**'Hello'**\n",
    "\n",
    "'Hello,world!'[3:]  \n",
    "**'lo,world'**"
   ]
  },
  {
   "cell_type": "code",
   "execution_count": null,
   "id": "36228c1f",
   "metadata": {},
   "outputs": [],
   "source": []
  },
  {
   "cell_type": "markdown",
   "id": "7ba9d5ac",
   "metadata": {},
   "source": [
    "**7**.What are the values of the following expressions?   \n",
    "\n",
    "  'Hello'.upper()   \n",
    "      **'HELLO'**    \n",
    "      \n",
    "   'Hello'.upper().isupper()  \n",
    "   **True**    \n",
    "   \n",
    "   'Hello'.upper().lower()  \n",
    "   **'hello'**"
   ]
  },
  {
   "cell_type": "code",
   "execution_count": null,
   "id": "71482f0d",
   "metadata": {},
   "outputs": [],
   "source": []
  },
  {
   "cell_type": "markdown",
   "id": "87bc00ab",
   "metadata": {},
   "source": [
    "**8.**.What are the values of the following expressions?  \n",
    "\n",
    "'Remember,Remember,the fifth of the November.'.split()  \n",
    "**['Remember,Remember,the', 'fifth', 'of', 'the', 'November.']**  \n",
    "\n",
    "\n",
    "'-'.join('There can be only one.'.split())  \n",
    "**'There-can-be-only-one.'**\n"
   ]
  },
  {
   "cell_type": "code",
   "execution_count": null,
   "id": "ec1e0811",
   "metadata": {},
   "outputs": [],
   "source": []
  },
  {
   "cell_type": "markdown",
   "id": "d9fbc094",
   "metadata": {},
   "source": [
    "**9**.What string methods for right-justifying, left-justifying, and centering a string?    \n",
    "\n",
    "   The **rjust()**, **ljust()**, and **center()** string methods, respectively  "
   ]
  },
  {
   "cell_type": "code",
   "execution_count": null,
   "id": "6efdd2d4",
   "metadata": {},
   "outputs": [],
   "source": []
  },
  {
   "cell_type": "markdown",
   "id": "83326005",
   "metadata": {},
   "source": [
    "**10**. What is the best way to remove whitespace character from the start or end?\n",
    "\n",
    "   The **lstrip()** and **rstrip()** methods remove whitespace from the left and right ends of a string, respectively."
   ]
  },
  {
   "cell_type": "code",
   "execution_count": null,
   "id": "58867330",
   "metadata": {},
   "outputs": [],
   "source": []
  }
 ],
 "metadata": {
  "kernelspec": {
   "display_name": "Python 3 (ipykernel)",
   "language": "python",
   "name": "python3"
  },
  "language_info": {
   "codemirror_mode": {
    "name": "ipython",
    "version": 3
   },
   "file_extension": ".py",
   "mimetype": "text/x-python",
   "name": "python",
   "nbconvert_exporter": "python",
   "pygments_lexer": "ipython3",
   "version": "3.9.12"
  }
 },
 "nbformat": 4,
 "nbformat_minor": 5
}
